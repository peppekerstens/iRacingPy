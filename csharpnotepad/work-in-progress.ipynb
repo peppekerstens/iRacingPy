{
 "cells": [
  {
   "cell_type": "markdown",
   "metadata": {
    "dotnet_interactive": {
     "language": "pwsh"
    },
    "polyglot_notebook": {
     "kernelName": "pwsh"
    }
   },
   "source": [
    "Create a C# function in Azure using Visual Studio Code\n",
    "\n",
    "https://learn.microsoft.com/en-us/azure/azure-functions/create-first-function-vs-code-csharp\n",
    "\n",
    "Install the Azure Functions Core Tools\n",
    "https://learn.microsoft.com/en-us/azure/azure-functions/functions-run-local?tabs=windows%2Cisolated-process%2Cnode-v4%2Cpython-v2%2Chttp-trigger%2Ccontainer-apps&pivots=programming-language-csharp#install-the-azure-functions-core-tools\n",
    "\n",
    "func init MyProjFolder --worker-runtime dotnet-isolated\n",
    "\n",
    "Tijdens laden van het project, foutmeldingen\n",
    "https://stackoverflow.com/questions/68283730/error-nu1100-unable-to-resolve\n",
    "\n",
    "\n",
    "\n"
   ]
  }
 ],
 "metadata": {
  "kernelspec": {
   "display_name": ".NET (PowerShell)",
   "language": "PowerShell",
   "name": ".net-pwsh"
  },
  "polyglot_notebook": {
   "kernelInfo": {
    "defaultKernelName": "pwsh",
    "items": [
     {
      "aliases": [],
      "languageName": "pwsh",
      "name": "pwsh"
     }
    ]
   }
  }
 },
 "nbformat": 4,
 "nbformat_minor": 2
}
